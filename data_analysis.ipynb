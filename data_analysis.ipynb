{
 "cells": [
  {
   "cell_type": "code",
   "execution_count": 84,
   "id": "18fa33aa",
   "metadata": {},
   "outputs": [],
   "source": [
    "import pandas as pd\n",
    "import matplotlib.pyplot as plt\n",
    "import numpy as np"
   ]
  },
  {
   "cell_type": "code",
   "execution_count": 98,
   "id": "18b86928",
   "metadata": {},
   "outputs": [
    {
     "data": {
      "text/plain": [
       "Index(['Gender', 'AgeYears', 'Race_Ethnicity', 'CitizenshipStatus',\n",
       "       'YearsInUS', 'EducationLevel_Youth6_19', 'EducationLevel_Adults20+',\n",
       "       'MaritalStatus', 'HouseholdSize', 'FamilySize', 'IncomeToPovertyRatio',\n",
       "       'PregnancyStatus', 'InterviewLang_SP', 'ProxyUsed_SP_Interview',\n",
       "       'InterpreterUsed_SP_Interview', 'InterviewSampleWeight',\n",
       "       'ExamSampleWeight', 'AnnualHouseholdIncome', 'AnnualFamilyIncome',\n",
       "       'CountryOfBirth', 'HOMA-IR'],\n",
       "      dtype='object')"
      ]
     },
     "execution_count": 98,
     "metadata": {},
     "output_type": "execute_result"
    }
   ],
   "source": [
    "df = pd.read_csv(\"final_renamed_merged_data.csv\")\n",
    "df.astype(np.float32)\n",
    "df = df.loc[:, \n",
    "            [\"FastingGlucose_mmol_L\", \"FastingInsulin_uU_mL\", \"Gender\", \"AgeYears\", \"Race_Ethnicity\", \"CitizenshipStatus\", \n",
    "             \"YearsInUS\", \"EducationLevel_Youth6_19\", \"EducationLevel_Adults20+\", \"MaritalStatus\", \"HouseholdSize\", \"FamilySize\",\n",
    "             \"IncomeToPovertyRatio\", \"PregnancyStatus\", \"InterviewLang_SP\", \"ProxyUsed_SP_Interview\", \"InterpreterUsed_SP_Interview\",\n",
    "             \"InterviewSampleWeight\", \"ExamSampleWeight\", \"AnnualHouseholdIncome\", \"AnnualFamilyIncome\", \"CountryOfBirth\"]]\n",
    "df[\"HOMA-IR\"] = (df[\"FastingGlucose_mmol_L\"] * df[\"FastingInsulin_uU_mL\"]) / (22.5 * 4.0)\n",
    "df = df.drop(columns=[\"FastingGlucose_mmol_L\", \"FastingInsulin_uU_mL\"])\n",
    "df.columns"
   ]
  },
  {
   "cell_type": "code",
   "execution_count": 99,
   "id": "41c5f085",
   "metadata": {},
   "outputs": [
    {
     "name": "stderr",
     "output_type": "stream",
     "text": [
      "C:\\Users\\aguin\\AppData\\Local\\Temp\\ipykernel_51588\\2030775320.py:1: FutureWarning: A value is trying to be set on a copy of a DataFrame or Series through chained assignment using an inplace method.\n",
      "The behavior will change in pandas 3.0. This inplace method will never work because the intermediate object on which we are setting values always behaves as a copy.\n",
      "\n",
      "For example, when doing 'df[col].method(value, inplace=True)', try using 'df.method({col: value}, inplace=True)' or df[col] = df[col].method(value) instead, to perform the operation inplace on the original object.\n",
      "\n",
      "\n",
      "  df[\"HOMA-IR\"].fillna(df[\"HOMA-IR\"].mean(), inplace=True)\n"
     ]
    }
   ],
   "source": [
    "df[\"HOMA-IR\"].fillna(df[\"HOMA-IR\"].mean(), inplace=True)"
   ]
  },
  {
   "cell_type": "code",
   "execution_count": 100,
   "id": "23e5bd35",
   "metadata": {},
   "outputs": [
    {
     "data": {
      "text/plain": [
       "13487"
      ]
     },
     "execution_count": 100,
     "metadata": {},
     "output_type": "execute_result"
    }
   ],
   "source": [
    "len(df)"
   ]
  },
  {
   "cell_type": "code",
   "execution_count": 101,
   "id": "f404853e",
   "metadata": {},
   "outputs": [
    {
     "data": {
      "text/plain": [
       "Gender                   13487\n",
       "AgeYears                 13487\n",
       "Race_Ethnicity           13487\n",
       "HouseholdSize            13487\n",
       "FamilySize               13487\n",
       "InterviewSampleWeight    13487\n",
       "ExamSampleWeight         13487\n",
       "HOMA-IR                  13487\n",
       "dtype: int64"
      ]
     },
     "execution_count": 101,
     "metadata": {},
     "output_type": "execute_result"
    }
   ],
   "source": [
    "df.dropna(inplace=True, axis=1)\n",
    "non_missing_count = df.count()\n",
    "non_missing_count"
   ]
  },
  {
   "cell_type": "code",
   "execution_count": 102,
   "id": "d4cd1e47",
   "metadata": {},
   "outputs": [
    {
     "name": "stdout",
     "output_type": "stream",
     "text": [
      "13487\n"
     ]
    }
   ],
   "source": [
    "print(len(df))"
   ]
  },
  {
   "cell_type": "code",
   "execution_count": 103,
   "id": "55e188c6",
   "metadata": {},
   "outputs": [
    {
     "data": {
      "text/html": [
       "<div>\n",
       "<style scoped>\n",
       "    .dataframe tbody tr th:only-of-type {\n",
       "        vertical-align: middle;\n",
       "    }\n",
       "\n",
       "    .dataframe tbody tr th {\n",
       "        vertical-align: top;\n",
       "    }\n",
       "\n",
       "    .dataframe thead th {\n",
       "        text-align: right;\n",
       "    }\n",
       "</style>\n",
       "<table border=\"1\" class=\"dataframe\">\n",
       "  <thead>\n",
       "    <tr style=\"text-align: right;\">\n",
       "      <th></th>\n",
       "      <th>Gender</th>\n",
       "      <th>AgeYears</th>\n",
       "      <th>Race_Ethnicity</th>\n",
       "      <th>HouseholdSize</th>\n",
       "      <th>FamilySize</th>\n",
       "      <th>InterviewSampleWeight</th>\n",
       "      <th>ExamSampleWeight</th>\n",
       "      <th>HOMA-IR</th>\n",
       "    </tr>\n",
       "  </thead>\n",
       "  <tbody>\n",
       "    <tr>\n",
       "      <th>count</th>\n",
       "      <td>13487.000000</td>\n",
       "      <td>13487.000000</td>\n",
       "      <td>13487.000000</td>\n",
       "      <td>13487.000000</td>\n",
       "      <td>13487.000000</td>\n",
       "      <td>13487.000000</td>\n",
       "      <td>13487.000000</td>\n",
       "      <td>13487.000000</td>\n",
       "    </tr>\n",
       "    <tr>\n",
       "      <th>mean</th>\n",
       "      <td>1.505301</td>\n",
       "      <td>42.303329</td>\n",
       "      <td>2.922296</td>\n",
       "      <td>3.444206</td>\n",
       "      <td>3.253429</td>\n",
       "      <td>34754.213229</td>\n",
       "      <td>35918.898517</td>\n",
       "      <td>0.954011</td>\n",
       "    </tr>\n",
       "    <tr>\n",
       "      <th>std</th>\n",
       "      <td>0.499990</td>\n",
       "      <td>21.277953</td>\n",
       "      <td>1.168020</td>\n",
       "      <td>1.725526</td>\n",
       "      <td>1.773505</td>\n",
       "      <td>30327.453337</td>\n",
       "      <td>31193.588376</td>\n",
       "      <td>1.260516</td>\n",
       "    </tr>\n",
       "    <tr>\n",
       "      <th>min</th>\n",
       "      <td>1.000000</td>\n",
       "      <td>12.000000</td>\n",
       "      <td>1.000000</td>\n",
       "      <td>1.000000</td>\n",
       "      <td>1.000000</td>\n",
       "      <td>1339.046608</td>\n",
       "      <td>1363.174167</td>\n",
       "      <td>0.011964</td>\n",
       "    </tr>\n",
       "    <tr>\n",
       "      <th>25%</th>\n",
       "      <td>1.000000</td>\n",
       "      <td>22.000000</td>\n",
       "      <td>2.000000</td>\n",
       "      <td>2.000000</td>\n",
       "      <td>2.000000</td>\n",
       "      <td>14000.793521</td>\n",
       "      <td>14505.006982</td>\n",
       "      <td>0.410952</td>\n",
       "    </tr>\n",
       "    <tr>\n",
       "      <th>50%</th>\n",
       "      <td>2.000000</td>\n",
       "      <td>41.000000</td>\n",
       "      <td>3.000000</td>\n",
       "      <td>3.000000</td>\n",
       "      <td>3.000000</td>\n",
       "      <td>23783.600538</td>\n",
       "      <td>24504.019670</td>\n",
       "      <td>0.702717</td>\n",
       "    </tr>\n",
       "    <tr>\n",
       "      <th>75%</th>\n",
       "      <td>2.000000</td>\n",
       "      <td>60.000000</td>\n",
       "      <td>4.000000</td>\n",
       "      <td>5.000000</td>\n",
       "      <td>4.000000</td>\n",
       "      <td>43836.600929</td>\n",
       "      <td>46179.032532</td>\n",
       "      <td>1.039153</td>\n",
       "    </tr>\n",
       "    <tr>\n",
       "      <th>max</th>\n",
       "      <td>2.000000</td>\n",
       "      <td>85.000000</td>\n",
       "      <td>5.000000</td>\n",
       "      <td>7.000000</td>\n",
       "      <td>7.000000</td>\n",
       "      <td>220233.315202</td>\n",
       "      <td>222579.783434</td>\n",
       "      <td>51.116528</td>\n",
       "    </tr>\n",
       "  </tbody>\n",
       "</table>\n",
       "</div>"
      ],
      "text/plain": [
       "             Gender      AgeYears  Race_Ethnicity  HouseholdSize  \\\n",
       "count  13487.000000  13487.000000    13487.000000   13487.000000   \n",
       "mean       1.505301     42.303329        2.922296       3.444206   \n",
       "std        0.499990     21.277953        1.168020       1.725526   \n",
       "min        1.000000     12.000000        1.000000       1.000000   \n",
       "25%        1.000000     22.000000        2.000000       2.000000   \n",
       "50%        2.000000     41.000000        3.000000       3.000000   \n",
       "75%        2.000000     60.000000        4.000000       5.000000   \n",
       "max        2.000000     85.000000        5.000000       7.000000   \n",
       "\n",
       "         FamilySize  InterviewSampleWeight  ExamSampleWeight       HOMA-IR  \n",
       "count  13487.000000           13487.000000      13487.000000  13487.000000  \n",
       "mean       3.253429           34754.213229      35918.898517      0.954011  \n",
       "std        1.773505           30327.453337      31193.588376      1.260516  \n",
       "min        1.000000            1339.046608       1363.174167      0.011964  \n",
       "25%        2.000000           14000.793521      14505.006982      0.410952  \n",
       "50%        3.000000           23783.600538      24504.019670      0.702717  \n",
       "75%        4.000000           43836.600929      46179.032532      1.039153  \n",
       "max        7.000000          220233.315202     222579.783434     51.116528  "
      ]
     },
     "execution_count": 103,
     "metadata": {},
     "output_type": "execute_result"
    }
   ],
   "source": [
    "df.describe()"
   ]
  },
  {
   "cell_type": "code",
   "execution_count": 104,
   "id": "53ab40f3",
   "metadata": {},
   "outputs": [
    {
     "data": {
      "text/html": [
       "<div>\n",
       "<style scoped>\n",
       "    .dataframe tbody tr th:only-of-type {\n",
       "        vertical-align: middle;\n",
       "    }\n",
       "\n",
       "    .dataframe tbody tr th {\n",
       "        vertical-align: top;\n",
       "    }\n",
       "\n",
       "    .dataframe thead th {\n",
       "        text-align: right;\n",
       "    }\n",
       "</style>\n",
       "<table border=\"1\" class=\"dataframe\">\n",
       "  <thead>\n",
       "    <tr style=\"text-align: right;\">\n",
       "      <th></th>\n",
       "      <th>Gender</th>\n",
       "      <th>AgeYears</th>\n",
       "      <th>Race_Ethnicity</th>\n",
       "      <th>HouseholdSize</th>\n",
       "      <th>FamilySize</th>\n",
       "      <th>InterviewSampleWeight</th>\n",
       "      <th>ExamSampleWeight</th>\n",
       "      <th>HOMA-IR</th>\n",
       "    </tr>\n",
       "  </thead>\n",
       "  <tbody>\n",
       "    <tr>\n",
       "      <th>0</th>\n",
       "      <td>2.0</td>\n",
       "      <td>85.0</td>\n",
       "      <td>3.0</td>\n",
       "      <td>1.0</td>\n",
       "      <td>1.0</td>\n",
       "      <td>29960.839509</td>\n",
       "      <td>34030.994786</td>\n",
       "      <td>0.954011</td>\n",
       "    </tr>\n",
       "    <tr>\n",
       "      <th>1</th>\n",
       "      <td>2.0</td>\n",
       "      <td>44.0</td>\n",
       "      <td>4.0</td>\n",
       "      <td>4.0</td>\n",
       "      <td>4.0</td>\n",
       "      <td>26457.708180</td>\n",
       "      <td>26770.584605</td>\n",
       "      <td>0.556776</td>\n",
       "    </tr>\n",
       "    <tr>\n",
       "      <th>2</th>\n",
       "      <td>1.0</td>\n",
       "      <td>70.0</td>\n",
       "      <td>3.0</td>\n",
       "      <td>2.0</td>\n",
       "      <td>2.0</td>\n",
       "      <td>32961.509920</td>\n",
       "      <td>35315.538900</td>\n",
       "      <td>0.870532</td>\n",
       "    </tr>\n",
       "    <tr>\n",
       "      <th>3</th>\n",
       "      <td>2.0</td>\n",
       "      <td>16.0</td>\n",
       "      <td>4.0</td>\n",
       "      <td>3.0</td>\n",
       "      <td>3.0</td>\n",
       "      <td>5635.221296</td>\n",
       "      <td>5920.617679</td>\n",
       "      <td>0.583911</td>\n",
       "    </tr>\n",
       "    <tr>\n",
       "      <th>4</th>\n",
       "      <td>1.0</td>\n",
       "      <td>73.0</td>\n",
       "      <td>3.0</td>\n",
       "      <td>2.0</td>\n",
       "      <td>2.0</td>\n",
       "      <td>43718.506372</td>\n",
       "      <td>44231.167252</td>\n",
       "      <td>0.894945</td>\n",
       "    </tr>\n",
       "  </tbody>\n",
       "</table>\n",
       "</div>"
      ],
      "text/plain": [
       "   Gender  AgeYears  Race_Ethnicity  HouseholdSize  FamilySize  \\\n",
       "0     2.0      85.0             3.0            1.0         1.0   \n",
       "1     2.0      44.0             4.0            4.0         4.0   \n",
       "2     1.0      70.0             3.0            2.0         2.0   \n",
       "3     2.0      16.0             4.0            3.0         3.0   \n",
       "4     1.0      73.0             3.0            2.0         2.0   \n",
       "\n",
       "   InterviewSampleWeight  ExamSampleWeight   HOMA-IR  \n",
       "0           29960.839509      34030.994786  0.954011  \n",
       "1           26457.708180      26770.584605  0.556776  \n",
       "2           32961.509920      35315.538900  0.870532  \n",
       "3            5635.221296       5920.617679  0.583911  \n",
       "4           43718.506372      44231.167252  0.894945  "
      ]
     },
     "execution_count": 104,
     "metadata": {},
     "output_type": "execute_result"
    }
   ],
   "source": [
    "df.head()"
   ]
  },
  {
   "cell_type": "code",
   "execution_count": 105,
   "id": "03fd4888",
   "metadata": {},
   "outputs": [],
   "source": [
    "for column in df.columns:\n",
    "    plt.figure()\n",
    "    df[column].plot(kind='hist', title=f\"Distribution {column}\", edgecolor='black')\n",
    "    plt.savefig(f\"data_analysis/{column}_histogram.png\")\n",
    "    plt.close()"
   ]
  },
  {
   "cell_type": "code",
   "execution_count": 96,
   "id": "4bb1b8cd",
   "metadata": {},
   "outputs": [],
   "source": [
    "df.to_csv('data.csv', index=False)"
   ]
  },
  {
   "cell_type": "code",
   "execution_count": null,
   "id": "93edfe42",
   "metadata": {},
   "outputs": [],
   "source": []
  },
  {
   "cell_type": "code",
   "execution_count": 97,
   "id": "ccf326f9",
   "metadata": {},
   "outputs": [
    {
     "name": "stdout",
     "output_type": "stream",
     "text": [
      "['Gender', 'AgeYears', 'Race_Ethnicity', 'HouseholdSize', 'FamilySize', 'InterviewSampleWeight', 'ExamSampleWeight', 'HOMA-IR']\n"
     ]
    }
   ],
   "source": [
    "print(list(df.columns))"
   ]
  },
  {
   "cell_type": "code",
   "execution_count": null,
   "id": "eaf7a832",
   "metadata": {},
   "outputs": [],
   "source": []
  }
 ],
 "metadata": {
  "kernelspec": {
   "display_name": "Python 3",
   "language": "python",
   "name": "python3"
  },
  "language_info": {
   "codemirror_mode": {
    "name": "ipython",
    "version": 3
   },
   "file_extension": ".py",
   "mimetype": "text/x-python",
   "name": "python",
   "nbconvert_exporter": "python",
   "pygments_lexer": "ipython3",
   "version": "3.13.3"
  }
 },
 "nbformat": 4,
 "nbformat_minor": 5
}
