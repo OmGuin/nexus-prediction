{
 "cells": [
  {
   "cell_type": "code",
   "execution_count": 1,
   "id": "091c7be6",
   "metadata": {},
   "outputs": [],
   "source": [
    "import pandas as pd\n",
    "import numpy as np"
   ]
  },
  {
   "cell_type": "code",
   "execution_count": 2,
   "id": "c7cc1549",
   "metadata": {},
   "outputs": [
    {
     "data": {
      "text/plain": [
       "[<matplotlib.lines.Line2D at 0x1dc7debafd0>]"
      ]
     },
     "execution_count": 2,
     "metadata": {},
     "output_type": "execute_result"
    },
    {
     "data": {
      "image/png": "[encoded data removed]",
      "text/plain": [
       "<Figure size 640x480 with 1 Axes>"
      ]
     },
     "metadata": {},
     "output_type": "display_data"
    }
   ],
   "source": [
    "from sklearn.linear_model import LinearRegression\n",
    "from sklearn.model_selection import train_test_split\n",
    "from sklearn.metrics import mean_squared_error, r2_score\n",
    "import matplotlib.pyplot as plt\n",
    "\n",
    "data = pd.read_csv('stuff.csv')\n",
    "\n",
    "X = data.loc[:,[\"BMI\"]].values\n",
    "y = data.loc[:, \"HOMA-IR\"].values\n",
    "\n",
    "\n",
    "a, b = np.polyfit(X.flatten(), y, 1)\n",
    "plt.scatter(X, y)\n",
    "\n",
    "x_vals = np.array((-2,3))\n",
    "y_vals = b + a * x_vals\n",
    "plt.plot(x_vals, y_vals, '-', color='red')"
   ]
  },
  {
   "cell_type": "code",
   "execution_count": 3,
   "id": "4e72839d",
   "metadata": {},
   "outputs": [
    {
     "data": {
      "text/html": [
       "<div>\n",
       "<style scoped>\n",
       "    .dataframe tbody tr th:only-of-type {\n",
       "        vertical-align: middle;\n",
       "    }\n",
       "\n",
       "    .dataframe tbody tr th {\n",
       "        vertical-align: top;\n",
       "    }\n",
       "\n",
       "    .dataframe thead th {\n",
       "        text-align: right;\n",
       "    }\n",
       "</style>\n",
       "<table border=\"1\" class=\"dataframe\">\n",
       "  <thead>\n",
       "    <tr style=\"text-align: right;\">\n",
       "      <th></th>\n",
       "      <th>Age</th>\n",
       "      <th>Gender</th>\n",
       "      <th>BMI</th>\n",
       "      <th>Body weight</th>\n",
       "      <th>Height</th>\n",
       "      <th>HOMA-IR</th>\n",
       "    </tr>\n",
       "  </thead>\n",
       "  <tbody>\n",
       "    <tr>\n",
       "      <th>Age</th>\n",
       "      <td>1.000000</td>\n",
       "      <td>-0.132226</td>\n",
       "      <td>0.001036</td>\n",
       "      <td>-0.092696</td>\n",
       "      <td>-0.167205</td>\n",
       "      <td>0.079607</td>\n",
       "    </tr>\n",
       "    <tr>\n",
       "      <th>Gender</th>\n",
       "      <td>-0.132226</td>\n",
       "      <td>1.000000</td>\n",
       "      <td>-0.192220</td>\n",
       "      <td>0.018738</td>\n",
       "      <td>0.453670</td>\n",
       "      <td>-0.160827</td>\n",
       "    </tr>\n",
       "    <tr>\n",
       "      <th>BMI</th>\n",
       "      <td>0.001036</td>\n",
       "      <td>-0.192220</td>\n",
       "      <td>1.000000</td>\n",
       "      <td>0.883373</td>\n",
       "      <td>-0.397177</td>\n",
       "      <td>0.472002</td>\n",
       "    </tr>\n",
       "    <tr>\n",
       "      <th>Body weight</th>\n",
       "      <td>-0.092696</td>\n",
       "      <td>0.018738</td>\n",
       "      <td>0.883373</td>\n",
       "      <td>1.000000</td>\n",
       "      <td>0.071888</td>\n",
       "      <td>0.285412</td>\n",
       "    </tr>\n",
       "    <tr>\n",
       "      <th>Height</th>\n",
       "      <td>-0.167205</td>\n",
       "      <td>0.453670</td>\n",
       "      <td>-0.397177</td>\n",
       "      <td>0.071888</td>\n",
       "      <td>1.000000</td>\n",
       "      <td>-0.463972</td>\n",
       "    </tr>\n",
       "    <tr>\n",
       "      <th>HOMA-IR</th>\n",
       "      <td>0.079607</td>\n",
       "      <td>-0.160827</td>\n",
       "      <td>0.472002</td>\n",
       "      <td>0.285412</td>\n",
       "      <td>-0.463972</td>\n",
       "      <td>1.000000</td>\n",
       "    </tr>\n",
       "  </tbody>\n",
       "</table>\n",
       "</div>"
      ],
      "text/plain": [
       "                   Age    Gender       BMI  Body weight    Height    HOMA-IR\n",
       "Age           1.000000 -0.132226  0.001036     -0.092696 -0.167205  0.079607\n",
       "Gender       -0.132226  1.000000 -0.192220      0.018738  0.453670 -0.160827\n",
       "BMI           0.001036 -0.192220  1.000000      0.883373 -0.397177  0.472002\n",
       "Body weight  -0.092696  0.018738  0.883373      1.000000  0.071888  0.285412\n",
       "Height       -0.167205  0.453670 -0.397177      0.071888  1.000000 -0.463972\n",
       "HOMA-IR       0.079607 -0.160827  0.472002      0.285412 -0.463972  1.000000"
      ]
     },
     "execution_count": 3,
     "metadata": {},
     "output_type": "execute_result"
    }
   ],
   "source": [
    "data.corr()"
   ]
  },
  {
   "cell_type": "code",
   "execution_count": 4,
   "id": "47d6d508",
   "metadata": {},
   "outputs": [
    {
     "name": "stdout",
     "output_type": "stream",
     "text": [
      "R-value: 0.472001635395612\n"
     ]
    }
   ],
   "source": [
    "# Calculate the r-value\n",
    "numerator = np.sum((X.flatten() - np.mean(X)) * (y - np.mean(y)))\n",
    "denominator = np.sqrt(np.sum((X.flatten() - np.mean(X))**2) * np.sum((y - np.mean(y))**2))\n",
    "r_value = numerator / denominator\n",
    "\n",
    "print(\"R-value:\", r_value)"
   ]
  },
  {
   "cell_type": "code",
   "execution_count": null,
   "id": "314febcb",
   "metadata": {},
   "outputs": [],
   "source": []
  }
 ],
 "metadata": {
  "kernelspec": {
   "display_name": "Python 3",
   "language": "python",
   "name": "python3"
  },
  "language_info": {
   "codemirror_mode": {
    "name": "ipython",
    "version": 3
   },
   "file_extension": ".py",
   "mimetype": "text/x-python",
   "name": "python",
   "nbconvert_exporter": "python",
   "pygments_lexer": "ipython3",
   "version": "3.13.3"
  }
 },
 "nbformat": 4,
 "nbformat_minor": 5
}
